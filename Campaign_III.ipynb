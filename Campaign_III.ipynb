{
 "cells": [
  {
   "cell_type": "code",
   "execution_count": 1,
   "metadata": {},
   "outputs": [],
   "source": [
    "import csv\n",
    "import numpy as np\n",
    "import seaborn as sns\n",
    "import matplotlib.pyplot as plt\n",
    "import scikitplot as skplt\n",
    "import pandas as pd\n",
    "\n",
    "plt.style.use('ggplot')\n",
    "%config InlineBackend.figure_format = 'retina'\n",
    "%matplotlib inline"
   ]
  },
  {
   "cell_type": "code",
   "execution_count": 2,
   "metadata": {},
   "outputs": [],
   "source": [
    "import scipy.stats as stats\n",
    "from sklearn import metrics\n",
    "from sklearn.preprocessing import MinMaxScaler\n",
    "from sklearn.metrics import make_scorer, classification_report, confusion_matrix, accuracy_score, roc_auc_score\n",
    "from sklearn.metrics import precision_score, recall_score, f1_score, cohen_kappa_score, precision_recall_curve\n",
    "from sklearn.model_selection import train_test_split, cross_val_score, StratifiedKFold, GridSearchCV"
   ]
  },
  {
   "cell_type": "code",
   "execution_count": 3,
   "metadata": {},
   "outputs": [],
   "source": [
    "from sklearn.linear_model import LogisticRegression\n",
    "from sklearn.ensemble import RandomForestClassifier"
   ]
  },
  {
   "cell_type": "code",
   "execution_count": 4,
   "metadata": {},
   "outputs": [],
   "source": [
    "f = pd.read_csv('df_data.csv')\n",
    "df = pd.DataFrame(f)"
   ]
  },
  {
   "cell_type": "code",
   "execution_count": 5,
   "metadata": {},
   "outputs": [],
   "source": [
    "# The 5 variables plus the target variable\n",
    "df = df[['euribor3m', 'cons.conf.idx', 'age', 'previous', 'blue_collar', 'target']]"
   ]
  },
  {
   "cell_type": "markdown",
   "metadata": {},
   "source": [
    "# Scaling Explanatory Variables"
   ]
  },
  {
   "cell_type": "code",
   "execution_count": 6,
   "metadata": {},
   "outputs": [],
   "source": [
    "y = df.pop('target')"
   ]
  },
  {
   "cell_type": "code",
   "execution_count": 7,
   "metadata": {},
   "outputs": [],
   "source": [
    "X = df"
   ]
  },
  {
   "cell_type": "code",
   "execution_count": 8,
   "metadata": {},
   "outputs": [
    {
     "data": {
      "text/plain": [
       "Index(['euribor3m', 'cons.conf.idx', 'age', 'previous', 'blue_collar'], dtype='object')"
      ]
     },
     "execution_count": 8,
     "metadata": {},
     "output_type": "execute_result"
    }
   ],
   "source": [
    "X.columns"
   ]
  },
  {
   "cell_type": "code",
   "execution_count": 9,
   "metadata": {},
   "outputs": [],
   "source": [
    "X_train, X_test, y_train, y_test = train_test_split(X, y, stratify=y, test_size=0.3, random_state=8)"
   ]
  },
  {
   "cell_type": "code",
   "execution_count": 10,
   "metadata": {},
   "outputs": [],
   "source": [
    "scaler = MinMaxScaler()\n",
    "X_train_mm = scaler.fit_transform(X_train)\n",
    "X_test_mm = scaler.transform(X_test)"
   ]
  },
  {
   "cell_type": "code",
   "execution_count": 11,
   "metadata": {},
   "outputs": [],
   "source": [
    "X_train = pd.DataFrame(X_train_mm, columns=['euribor3m', 'cons.conf.idx', 'age', 'previous', 'blue_collar'])"
   ]
  },
  {
   "cell_type": "code",
   "execution_count": 12,
   "metadata": {},
   "outputs": [],
   "source": [
    "X_test = pd.DataFrame(X_test_mm, columns=['euribor3m', 'cons.conf.idx', 'age', 'previous', 'blue_collar'])"
   ]
  },
  {
   "cell_type": "code",
   "execution_count": 13,
   "metadata": {},
   "outputs": [
    {
     "data": {
      "text/html": [
       "<div>\n",
       "<style scoped>\n",
       "    .dataframe tbody tr th:only-of-type {\n",
       "        vertical-align: middle;\n",
       "    }\n",
       "\n",
       "    .dataframe tbody tr th {\n",
       "        vertical-align: top;\n",
       "    }\n",
       "\n",
       "    .dataframe thead th {\n",
       "        text-align: right;\n",
       "    }\n",
       "</style>\n",
       "<table border=\"1\" class=\"dataframe\">\n",
       "  <thead>\n",
       "    <tr style=\"text-align: right;\">\n",
       "      <th></th>\n",
       "      <th>euribor3m</th>\n",
       "      <th>cons.conf.idx</th>\n",
       "      <th>age</th>\n",
       "      <th>previous</th>\n",
       "      <th>blue_collar</th>\n",
       "    </tr>\n",
       "  </thead>\n",
       "  <tbody>\n",
       "    <tr>\n",
       "      <th>count</th>\n",
       "      <td>28823.000000</td>\n",
       "      <td>28823.000000</td>\n",
       "      <td>28823.000000</td>\n",
       "      <td>28823.000000</td>\n",
       "      <td>28823.000000</td>\n",
       "    </tr>\n",
       "    <tr>\n",
       "      <th>mean</th>\n",
       "      <td>0.677648</td>\n",
       "      <td>0.430109</td>\n",
       "      <td>0.283754</td>\n",
       "      <td>0.028796</td>\n",
       "      <td>0.222912</td>\n",
       "    </tr>\n",
       "    <tr>\n",
       "      <th>std</th>\n",
       "      <td>0.392972</td>\n",
       "      <td>0.193246</td>\n",
       "      <td>0.128394</td>\n",
       "      <td>0.082555</td>\n",
       "      <td>0.416207</td>\n",
       "    </tr>\n",
       "    <tr>\n",
       "      <th>min</th>\n",
       "      <td>0.000000</td>\n",
       "      <td>0.000000</td>\n",
       "      <td>0.000000</td>\n",
       "      <td>0.000000</td>\n",
       "      <td>0.000000</td>\n",
       "    </tr>\n",
       "    <tr>\n",
       "      <th>25%</th>\n",
       "      <td>0.160961</td>\n",
       "      <td>0.338912</td>\n",
       "      <td>0.185185</td>\n",
       "      <td>0.000000</td>\n",
       "      <td>0.000000</td>\n",
       "    </tr>\n",
       "    <tr>\n",
       "      <th>50%</th>\n",
       "      <td>0.957379</td>\n",
       "      <td>0.376569</td>\n",
       "      <td>0.259259</td>\n",
       "      <td>0.000000</td>\n",
       "      <td>0.000000</td>\n",
       "    </tr>\n",
       "    <tr>\n",
       "      <th>75%</th>\n",
       "      <td>0.980957</td>\n",
       "      <td>0.602510</td>\n",
       "      <td>0.370370</td>\n",
       "      <td>0.000000</td>\n",
       "      <td>0.000000</td>\n",
       "    </tr>\n",
       "    <tr>\n",
       "      <th>max</th>\n",
       "      <td>1.000000</td>\n",
       "      <td>1.000000</td>\n",
       "      <td>1.000000</td>\n",
       "      <td>1.000000</td>\n",
       "      <td>1.000000</td>\n",
       "    </tr>\n",
       "  </tbody>\n",
       "</table>\n",
       "</div>"
      ],
      "text/plain": [
       "          euribor3m  cons.conf.idx           age      previous   blue_collar\n",
       "count  28823.000000   28823.000000  28823.000000  28823.000000  28823.000000\n",
       "mean       0.677648       0.430109      0.283754      0.028796      0.222912\n",
       "std        0.392972       0.193246      0.128394      0.082555      0.416207\n",
       "min        0.000000       0.000000      0.000000      0.000000      0.000000\n",
       "25%        0.160961       0.338912      0.185185      0.000000      0.000000\n",
       "50%        0.957379       0.376569      0.259259      0.000000      0.000000\n",
       "75%        0.980957       0.602510      0.370370      0.000000      0.000000\n",
       "max        1.000000       1.000000      1.000000      1.000000      1.000000"
      ]
     },
     "execution_count": 13,
     "metadata": {},
     "output_type": "execute_result"
    }
   ],
   "source": [
    "X_train.describe()"
   ]
  },
  {
   "cell_type": "markdown",
   "metadata": {},
   "source": [
    "### Scoring metric"
   ]
  },
  {
   "cell_type": "code",
   "execution_count": 14,
   "metadata": {},
   "outputs": [],
   "source": [
    "f1_scorer = make_scorer(f1_score)"
   ]
  },
  {
   "cell_type": "code",
   "execution_count": 15,
   "metadata": {},
   "outputs": [],
   "source": [
    "kf = StratifiedKFold(n_splits=5)"
   ]
  },
  {
   "cell_type": "markdown",
   "metadata": {},
   "source": [
    "# Gridsearch the 5-Variable RF & Logit Models"
   ]
  },
  {
   "cell_type": "markdown",
   "metadata": {},
   "source": [
    "### Random Forest"
   ]
  },
  {
   "cell_type": "code",
   "execution_count": 16,
   "metadata": {},
   "outputs": [],
   "source": [
    "rf = RandomForestClassifier(n_estimators=200, criterion='entropy', max_features='auto', min_samples_split=5, \n",
    "                            class_weight='balanced', random_state=8)"
   ]
  },
  {
   "cell_type": "code",
   "execution_count": 17,
   "metadata": {},
   "outputs": [],
   "source": [
    "rf_gs_params = {'n_estimators': [150, 200, 300, 500],\n",
    "                'max_features': ['log2', 'sqrt'],\n",
    "                'min_samples_split': [2, 5, 10, 20, 30],\n",
    "                'class_weight': [None, 'balanced']}\n",
    "\n",
    "scorers = {\n",
    "    'f1': f1_scorer\n",
    "}"
   ]
  },
  {
   "cell_type": "code",
   "execution_count": 18,
   "metadata": {},
   "outputs": [
    {
     "name": "stdout",
     "output_type": "stream",
     "text": [
      "Fitting 5 folds for each of 80 candidates, totalling 400 fits\n"
     ]
    },
    {
     "name": "stderr",
     "output_type": "stream",
     "text": [
      "[Parallel(n_jobs=-1)]: Using backend LokyBackend with 4 concurrent workers.\n",
      "[Parallel(n_jobs=-1)]: Done  33 tasks      | elapsed:   34.5s\n",
      "[Parallel(n_jobs=-1)]: Done 154 tasks      | elapsed:  2.6min\n",
      "[Parallel(n_jobs=-1)]: Done 357 tasks      | elapsed:  6.0min\n",
      "[Parallel(n_jobs=-1)]: Done 400 out of 400 | elapsed:  6.7min finished\n"
     ]
    }
   ],
   "source": [
    "gs_rf = GridSearchCV(rf, rf_gs_params, scoring=scorers, refit='f1', cv=5, verbose=2, n_jobs=-1)\n",
    "gs_rf = gs_rf.fit(X_train, y_train)"
   ]
  },
  {
   "cell_type": "code",
   "execution_count": 19,
   "metadata": {},
   "outputs": [
    {
     "data": {
      "text/plain": [
       "0.4510064569981392"
      ]
     },
     "execution_count": 19,
     "metadata": {},
     "output_type": "execute_result"
    }
   ],
   "source": [
    "gs_rf.best_score_"
   ]
  },
  {
   "cell_type": "code",
   "execution_count": 20,
   "metadata": {},
   "outputs": [
    {
     "data": {
      "text/plain": [
       "{'class_weight': 'balanced',\n",
       " 'max_features': 'log2',\n",
       " 'min_samples_split': 30,\n",
       " 'n_estimators': 300}"
      ]
     },
     "execution_count": 20,
     "metadata": {},
     "output_type": "execute_result"
    }
   ],
   "source": [
    "gs_rf.best_params_"
   ]
  },
  {
   "cell_type": "code",
   "execution_count": 21,
   "metadata": {},
   "outputs": [
    {
     "data": {
      "text/plain": [
       "RandomForestClassifier(bootstrap=True, ccp_alpha=0.0, class_weight='balanced',\n",
       "                       criterion='entropy', max_depth=None, max_features='log2',\n",
       "                       max_leaf_nodes=None, max_samples=None,\n",
       "                       min_impurity_decrease=0.0, min_impurity_split=None,\n",
       "                       min_samples_leaf=1, min_samples_split=30,\n",
       "                       min_weight_fraction_leaf=0.0, n_estimators=300,\n",
       "                       n_jobs=None, oob_score=False, random_state=8, verbose=0,\n",
       "                       warm_start=False)"
      ]
     },
     "execution_count": 21,
     "metadata": {},
     "output_type": "execute_result"
    }
   ],
   "source": [
    "gs_rf.best_estimator_"
   ]
  },
  {
   "cell_type": "code",
   "execution_count": 22,
   "metadata": {},
   "outputs": [],
   "source": [
    "rf = RandomForestClassifier(bootstrap=True, ccp_alpha=0.0, class_weight='balanced',\n",
    "                       criterion='entropy', max_depth=None, max_features='log2',\n",
    "                       max_leaf_nodes=None, max_samples=None,\n",
    "                       min_impurity_decrease=0.0, min_impurity_split=None,\n",
    "                       min_samples_leaf=1, min_samples_split=30,\n",
    "                       min_weight_fraction_leaf=0.0, n_estimators=300,\n",
    "                       n_jobs=None, oob_score=False, random_state=8, verbose=0,\n",
    "                       warm_start=False)"
   ]
  },
  {
   "cell_type": "code",
   "execution_count": 23,
   "metadata": {},
   "outputs": [],
   "source": [
    "rf.fit(X_train, y_train)\n",
    "scores_rf = cross_val_score(rf, X_train, y_train, scoring=f1_scorer, cv=kf)\n",
    "\n",
    "y_hat_train_rf = rf.predict(X_train)\n",
    "y_hat_test_rf = rf.predict(X_test)"
   ]
  },
  {
   "cell_type": "code",
   "execution_count": 24,
   "metadata": {},
   "outputs": [
    {
     "name": "stdout",
     "output_type": "stream",
     "text": [
      "Cross-validation F1 scores on Class 1: [0.45306352 0.45804989 0.45737801 0.44936359 0.43717728]\n",
      "Mean CV F1 scores on Class 1: 0.4510064569981392\n"
     ]
    }
   ],
   "source": [
    "print(\"Cross-validation F1 scores on Class 1:\", scores_rf)\n",
    "print(\"Mean CV F1 scores on Class 1:\", np.mean(scores_rf))"
   ]
  },
  {
   "cell_type": "code",
   "execution_count": 25,
   "metadata": {},
   "outputs": [
    {
     "name": "stdout",
     "output_type": "stream",
     "text": [
      "Train set accuracy score: 0.848905388058148\n",
      "Train set F1 score on Class 1: 0.5131358300726663\n",
      "Train set Cohen's kappa: 0.4315515930670488\n",
      "Train set ROC-AUC score: 0.7868759283490576\n"
     ]
    }
   ],
   "source": [
    "print(\"Train set accuracy score:\", rf.score(X_train, y_train))\n",
    "print(\"Train set F1 score on Class 1:\", f1_score(y_train, y_hat_train_rf, average='binary'))\n",
    "print(\"Train set Cohen's kappa:\", cohen_kappa_score(y_train, y_hat_train_rf))\n",
    "print(\"Train set ROC-AUC score:\", roc_auc_score(y_train, y_hat_train_rf, average='macro'))"
   ]
  },
  {
   "cell_type": "code",
   "execution_count": 26,
   "metadata": {},
   "outputs": [
    {
     "name": "stdout",
     "output_type": "stream",
     "text": [
      "Test set accuracy score: 0.8304865214927548\n",
      "Test set F1 score on Class 1: 0.4532637075718015\n",
      "Test set Cohen's kappa: 0.3616918297375832\n",
      "Test set ROC-AUC score: 0.7401640560524408\n"
     ]
    }
   ],
   "source": [
    "print(\"Test set accuracy score:\", rf.score(X_test, y_test))\n",
    "print(\"Test set F1 score on Class 1:\", f1_score(y_test, y_hat_test_rf, average='binary'))\n",
    "print(\"Test set Cohen's kappa:\", cohen_kappa_score(y_test, y_hat_test_rf))\n",
    "print(\"Test set ROC-AUC score:\", roc_auc_score(y_test, y_hat_test_rf, average='macro'))"
   ]
  },
  {
   "cell_type": "code",
   "execution_count": 27,
   "metadata": {},
   "outputs": [
    {
     "name": "stdout",
     "output_type": "stream",
     "text": [
      "              precision    recall  f1-score   support\n",
      "\n",
      "           0       0.96      0.87      0.91     25576\n",
      "           1       0.40      0.71      0.51      3247\n",
      "\n",
      "    accuracy                           0.85     28823\n",
      "   macro avg       0.68      0.79      0.71     28823\n",
      "weighted avg       0.90      0.85      0.87     28823\n",
      "\n"
     ]
    }
   ],
   "source": [
    "# Classification report on train set\n",
    "print(classification_report(y_train, y_hat_train_rf))"
   ]
  },
  {
   "cell_type": "code",
   "execution_count": 28,
   "metadata": {},
   "outputs": [
    {
     "name": "stdout",
     "output_type": "stream",
     "text": [
      "              precision    recall  f1-score   support\n",
      "\n",
      "           0       0.95      0.86      0.90     10961\n",
      "           1       0.36      0.62      0.45      1392\n",
      "\n",
      "    accuracy                           0.83     12353\n",
      "   macro avg       0.65      0.74      0.68     12353\n",
      "weighted avg       0.88      0.83      0.85     12353\n",
      "\n"
     ]
    }
   ],
   "source": [
    "# Classification report on test set\n",
    "print(classification_report(y_test, y_hat_test_rf))"
   ]
  },
  {
   "cell_type": "code",
   "execution_count": 29,
   "metadata": {},
   "outputs": [
    {
     "data": {
      "image/png": "[encoded data removed]",
      "text/plain": [
       "<Figure size 432x432 with 2 Axes>"
      ]
     },
     "metadata": {
      "image/png": {
       "height": 359,
       "width": 380
      },
      "needs_background": "light"
     },
     "output_type": "display_data"
    }
   ],
   "source": [
    "# Confusion matrix on test set\n",
    "skplt.metrics.plot_confusion_matrix(y_test, y_hat_test_rf, figsize=(6,6))\n",
    "plt.title('RF Test Set Confusion Matrix', y=1.08, fontsize=16)\n",
    "plt.xlabel('Predicted', fontsize=18)\n",
    "plt.ylabel('True/Actual', fontsize=16)\n",
    "plt.ylim([-0.5, len(y.unique())-0.5])\n",
    "plt.show()"
   ]
  },
  {
   "cell_type": "markdown",
   "metadata": {},
   "source": [
    "#### The mean CV F1 scores on the train set are 0.4663 in the All-variable RF model versus 0.4510 in the 5-variable RF model above. The test set's F1 score, Cohen's kappa, and ROC-AUC score are uniformly lower for the 5-variable model compared to the All-variable one, but only marginally so.\n",
    "\n",
    "#### The confusion matrix for the RF model above shows that it managed to predict 868 class \"1\" (successful subscriptions) out of a total of 524 + 868 = 1392 actual class \"1\" observations in the test set. That is a recall rate of 62.4%. Out of the model's predicted  2,438 class \"1\" observations, 868 of them proved to be true class \"1\", which gives a precision rate of 35.6%. These precision and recall rates contributed to an F1 score of 45.3% on the class \"1\" category in the test set.\n",
    "\n",
    "#### The 5-variable model's F1 score of 45.3% is slightly smaller than the 47.6% clocked by the All-variable model, but still much better than the 29.7% of the simple Random Forest model shown in the \"Campaign_II\" file."
   ]
  },
  {
   "cell_type": "markdown",
   "metadata": {},
   "source": [
    "### Logistic Regression"
   ]
  },
  {
   "cell_type": "code",
   "execution_count": 30,
   "metadata": {},
   "outputs": [],
   "source": [
    "logit = LogisticRegression(penalty='l2', C=1, solver='liblinear', class_weight='balanced', random_state=8)"
   ]
  },
  {
   "cell_type": "code",
   "execution_count": 31,
   "metadata": {},
   "outputs": [],
   "source": [
    "logit_gs_params = {'penalty': ['l1', 'l2'],\n",
    "                   'solver': ['liblinear', 'saga'],\n",
    "                   'C': [0.0001, 0.001, 0.01, 0.1, 1, 10, 100],\n",
    "                   'class_weight': [None, 'balanced']}\n",
    "\n",
    "scorers = {\n",
    "    'f1': f1_scorer\n",
    "}"
   ]
  },
  {
   "cell_type": "code",
   "execution_count": 32,
   "metadata": {},
   "outputs": [
    {
     "name": "stdout",
     "output_type": "stream",
     "text": [
      "Fitting 5 folds for each of 56 candidates, totalling 280 fits\n"
     ]
    },
    {
     "name": "stderr",
     "output_type": "stream",
     "text": [
      "[Parallel(n_jobs=-1)]: Using backend LokyBackend with 4 concurrent workers.\n",
      "[Parallel(n_jobs=-1)]: Done 128 tasks      | elapsed:    1.6s\n",
      "[Parallel(n_jobs=-1)]: Done 280 out of 280 | elapsed:    4.2s finished\n"
     ]
    }
   ],
   "source": [
    "gs_logit = GridSearchCV(logit, logit_gs_params, scoring=scorers, refit='f1', cv=5, verbose=2, n_jobs=-1)\n",
    "gs_logit = gs_logit.fit(X_train, y_train)"
   ]
  },
  {
   "cell_type": "code",
   "execution_count": 33,
   "metadata": {},
   "outputs": [
    {
     "data": {
      "text/plain": [
       "0.38305251342819435"
      ]
     },
     "execution_count": 33,
     "metadata": {},
     "output_type": "execute_result"
    }
   ],
   "source": [
    "gs_logit.best_score_"
   ]
  },
  {
   "cell_type": "code",
   "execution_count": 34,
   "metadata": {},
   "outputs": [
    {
     "data": {
      "text/plain": [
       "{'C': 0.0001,\n",
       " 'class_weight': 'balanced',\n",
       " 'penalty': 'l2',\n",
       " 'solver': 'liblinear'}"
      ]
     },
     "execution_count": 34,
     "metadata": {},
     "output_type": "execute_result"
    }
   ],
   "source": [
    "gs_logit.best_params_"
   ]
  },
  {
   "cell_type": "code",
   "execution_count": 35,
   "metadata": {},
   "outputs": [
    {
     "data": {
      "text/plain": [
       "LogisticRegression(C=0.0001, class_weight='balanced', dual=False,\n",
       "                   fit_intercept=True, intercept_scaling=1, l1_ratio=None,\n",
       "                   max_iter=100, multi_class='auto', n_jobs=None, penalty='l2',\n",
       "                   random_state=8, solver='liblinear', tol=0.0001, verbose=0,\n",
       "                   warm_start=False)"
      ]
     },
     "execution_count": 35,
     "metadata": {},
     "output_type": "execute_result"
    }
   ],
   "source": [
    "gs_logit.best_estimator_"
   ]
  },
  {
   "cell_type": "code",
   "execution_count": 36,
   "metadata": {},
   "outputs": [],
   "source": [
    "logit = LogisticRegression(C=0.0001, class_weight='balanced', dual=False,\n",
    "                   fit_intercept=True, intercept_scaling=1, l1_ratio=None,\n",
    "                   max_iter=100, multi_class='auto', n_jobs=None, penalty='l2',\n",
    "                   random_state=8, solver='liblinear', tol=0.0001, verbose=0,\n",
    "                   warm_start=False)"
   ]
  },
  {
   "cell_type": "code",
   "execution_count": 37,
   "metadata": {},
   "outputs": [],
   "source": [
    "logit.fit(X_train, y_train)\n",
    "scores_lr = cross_val_score(logit, X_train, y_train, scoring=f1_scorer, cv=kf)\n",
    "\n",
    "y_hat_train_lr = logit.predict(X_train)\n",
    "y_hat_test_lr = logit.predict(X_test)"
   ]
  },
  {
   "cell_type": "code",
   "execution_count": 38,
   "metadata": {},
   "outputs": [
    {
     "name": "stdout",
     "output_type": "stream",
     "text": [
      "Cross-validation F1 scores: [0.38376384 0.39197387 0.3857404  0.38055166 0.3732328 ]\n",
      "Mean CV F1 scores: 0.38305251342819435\n"
     ]
    }
   ],
   "source": [
    "print(\"Cross-validation F1 scores:\", scores_lr)\n",
    "print(\"Mean CV F1 scores:\", np.mean(scores_lr))"
   ]
  },
  {
   "cell_type": "code",
   "execution_count": 39,
   "metadata": {},
   "outputs": [
    {
     "name": "stdout",
     "output_type": "stream",
     "text": [
      "Train set accuracy score: 0.7694896436873331\n",
      "Train set F1 score on Class 1: 0.3857248520710059\n",
      "Train set Cohen's kappa: 0.2707441830846766\n",
      "Train set ROC-AUC score: 0.7140292526225936\n"
     ]
    }
   ],
   "source": [
    "print(\"Train set accuracy score:\", logit.score(X_train, y_train))\n",
    "print(\"Train set F1 score on Class 1:\", f1_score(y_train, y_hat_train_lr, average='binary'))\n",
    "print(\"Train set Cohen's kappa:\", cohen_kappa_score(y_train, y_hat_train_lr))\n",
    "print(\"Train set ROC-AUC score:\", roc_auc_score(y_train, y_hat_train_lr, average='macro'))"
   ]
  },
  {
   "cell_type": "code",
   "execution_count": 40,
   "metadata": {},
   "outputs": [
    {
     "name": "stdout",
     "output_type": "stream",
     "text": [
      "Test set accuracy score: 0.7722010847567392\n",
      "Test set F1 score on Class 1: 0.39248704663212436\n",
      "Test set Cohen's kappa: 0.27879441156128426\n",
      "Test set ROC-AUC score: 0.7201770815965068\n"
     ]
    }
   ],
   "source": [
    "print(\"Test set accuracy score:\", logit.score(X_test, y_test))\n",
    "print(\"Test set F1 score on Class 1:\", f1_score(y_test, y_hat_test_lr, average='binary'))\n",
    "print(\"Test set Cohen's kappa:\", cohen_kappa_score(y_test, y_hat_test_lr))\n",
    "print(\"Test set ROC-AUC score:\", roc_auc_score(y_test, y_hat_test_lr, average='macro'))"
   ]
  },
  {
   "cell_type": "code",
   "execution_count": 41,
   "metadata": {},
   "outputs": [
    {
     "name": "stdout",
     "output_type": "stream",
     "text": [
      "              precision    recall  f1-score   support\n",
      "\n",
      "           0       0.95      0.79      0.86     25576\n",
      "           1       0.28      0.64      0.39      3247\n",
      "\n",
      "    accuracy                           0.77     28823\n",
      "   macro avg       0.61      0.71      0.62     28823\n",
      "weighted avg       0.87      0.77      0.80     28823\n",
      "\n"
     ]
    }
   ],
   "source": [
    "# Classification report on train set\n",
    "print(classification_report(y_train, y_hat_train_lr))"
   ]
  },
  {
   "cell_type": "code",
   "execution_count": 42,
   "metadata": {},
   "outputs": [
    {
     "name": "stdout",
     "output_type": "stream",
     "text": [
      "              precision    recall  f1-score   support\n",
      "\n",
      "           0       0.95      0.79      0.86     10961\n",
      "           1       0.28      0.65      0.39      1392\n",
      "\n",
      "    accuracy                           0.77     12353\n",
      "   macro avg       0.61      0.72      0.63     12353\n",
      "weighted avg       0.87      0.77      0.81     12353\n",
      "\n"
     ]
    }
   ],
   "source": [
    "# Classification report on test set\n",
    "print(classification_report(y_test, y_hat_test_lr))"
   ]
  },
  {
   "cell_type": "code",
   "execution_count": 43,
   "metadata": {},
   "outputs": [
    {
     "data": {
      "image/png": "[encoded data removed]",
      "text/plain": [
       "<Figure size 432x432 with 2 Axes>"
      ]
     },
     "metadata": {
      "image/png": {
       "height": 359,
       "width": 380
      },
      "needs_background": "light"
     },
     "output_type": "display_data"
    }
   ],
   "source": [
    "# Logit confusion matrix on test set\n",
    "skplt.metrics.plot_confusion_matrix(y_test, y_hat_test_lr, figsize=(6,6))\n",
    "plt.title('Logit Test Set Confusion Matrix', y=1.08, fontsize=16)\n",
    "plt.xlabel('Predicted', fontsize=18)\n",
    "plt.ylabel('True/Actual', fontsize=16)\n",
    "plt.ylim([-0.5, len(y.unique())-0.5])\n",
    "plt.show()"
   ]
  },
  {
   "cell_type": "markdown",
   "metadata": {},
   "source": [
    "### Gridsearch Findings"
   ]
  },
  {
   "cell_type": "markdown",
   "metadata": {},
   "source": [
    "#### Logit's CV F1 scores on the train set are notably weaker than those from Random Forest. Moreover, Logit's performance on the test set is also uniformly weaker. Consequently, the Random Forest Classifier again wins the crown for the 5-variable predictive model."
   ]
  },
  {
   "cell_type": "code",
   "execution_count": null,
   "metadata": {},
   "outputs": [],
   "source": []
  },
  {
   "cell_type": "markdown",
   "metadata": {},
   "source": [
    "# RF 5-variable Model Probability Threshold"
   ]
  },
  {
   "cell_type": "markdown",
   "metadata": {},
   "source": [
    "We can still see if a \"soft classification\" model's prediction of a minority class of interest could be improve by shifting the probability thresholds. To do so we need to obtain the model's probabilistic predictions."
   ]
  },
  {
   "cell_type": "code",
   "execution_count": 44,
   "metadata": {},
   "outputs": [
    {
     "data": {
      "text/plain": [
       "array([0, 1], dtype=int64)"
      ]
     },
     "execution_count": 44,
     "metadata": {},
     "output_type": "execute_result"
    }
   ],
   "source": [
    "rf.classes_"
   ]
  },
  {
   "cell_type": "code",
   "execution_count": 45,
   "metadata": {},
   "outputs": [],
   "source": [
    "# Obtain the the probabilistic predictions of Class 1 in the target variable, using the train set\n",
    "yhat_train_prob = rf.predict_proba(X_train)[:, 1]"
   ]
  },
  {
   "cell_type": "code",
   "execution_count": 46,
   "metadata": {},
   "outputs": [],
   "source": [
    "precision, recall, thresholds = precision_recall_curve(y_train, yhat_train_prob)"
   ]
  },
  {
   "cell_type": "code",
   "execution_count": 47,
   "metadata": {},
   "outputs": [],
   "source": [
    "thresholds = np.append(thresholds, 1) "
   ]
  },
  {
   "cell_type": "code",
   "execution_count": 48,
   "metadata": {},
   "outputs": [
    {
     "data": {
      "image/png": "[encoded data removed]",
      "text/plain": [
       "<Figure size 864x432 with 1 Axes>"
      ]
     },
     "metadata": {
      "image/png": {
       "height": 391,
       "width": 723
      },
      "needs_background": "light"
     },
     "output_type": "display_data"
    }
   ],
   "source": [
    "fig, ax = plt.subplots(figsize=(12,6))\n",
    "\n",
    "ax.plot(thresholds, precision, color=sns.color_palette()[0]) \n",
    "ax.plot(thresholds, recall, color=sns.color_palette()[1]) \n",
    "ax.legend(('Precision rate', 'Recall rate'), fontsize=14)\n",
    "\n",
    "ax.set_title(\"Random Forest Precision-Recall Rates versus Threshold\", fontsize=16)\n",
    "ax.set_xlabel('Probability Threshold') \n",
    "ax.set_ylabel('%');"
   ]
  },
  {
   "cell_type": "code",
   "execution_count": 49,
   "metadata": {},
   "outputs": [],
   "source": [
    "pr_combi = pd.DataFrame({'precision': precision, 'recall': recall, 'threshold': thresholds}, \n",
    "                        columns=['precision', 'recall', 'threshold'])"
   ]
  },
  {
   "cell_type": "code",
   "execution_count": 50,
   "metadata": {},
   "outputs": [],
   "source": [
    "pr_combi['f1'] = 2*(precision*recall)/(precision+recall+0.0000000000000000001)"
   ]
  },
  {
   "cell_type": "code",
   "execution_count": 51,
   "metadata": {},
   "outputs": [
    {
     "data": {
      "text/html": [
       "<div>\n",
       "<style scoped>\n",
       "    .dataframe tbody tr th:only-of-type {\n",
       "        vertical-align: middle;\n",
       "    }\n",
       "\n",
       "    .dataframe tbody tr th {\n",
       "        vertical-align: top;\n",
       "    }\n",
       "\n",
       "    .dataframe thead th {\n",
       "        text-align: right;\n",
       "    }\n",
       "</style>\n",
       "<table border=\"1\" class=\"dataframe\">\n",
       "  <thead>\n",
       "    <tr style=\"text-align: right;\">\n",
       "      <th></th>\n",
       "      <th>precision</th>\n",
       "      <th>recall</th>\n",
       "      <th>threshold</th>\n",
       "      <th>f1</th>\n",
       "    </tr>\n",
       "  </thead>\n",
       "  <tbody>\n",
       "    <tr>\n",
       "      <th>0</th>\n",
       "      <td>0.150234</td>\n",
       "      <td>1.000000</td>\n",
       "      <td>0.093517</td>\n",
       "      <td>0.261223</td>\n",
       "    </tr>\n",
       "    <tr>\n",
       "      <th>1</th>\n",
       "      <td>0.150668</td>\n",
       "      <td>0.999692</td>\n",
       "      <td>0.093596</td>\n",
       "      <td>0.261869</td>\n",
       "    </tr>\n",
       "    <tr>\n",
       "      <th>2</th>\n",
       "      <td>0.150689</td>\n",
       "      <td>0.999692</td>\n",
       "      <td>0.093643</td>\n",
       "      <td>0.261901</td>\n",
       "    </tr>\n",
       "    <tr>\n",
       "      <th>3</th>\n",
       "      <td>0.150745</td>\n",
       "      <td>0.999692</td>\n",
       "      <td>0.093738</td>\n",
       "      <td>0.261985</td>\n",
       "    </tr>\n",
       "    <tr>\n",
       "      <th>4</th>\n",
       "      <td>0.150752</td>\n",
       "      <td>0.999692</td>\n",
       "      <td>0.093765</td>\n",
       "      <td>0.261996</td>\n",
       "    </tr>\n",
       "    <tr>\n",
       "      <th>...</th>\n",
       "      <td>...</td>\n",
       "      <td>...</td>\n",
       "      <td>...</td>\n",
       "      <td>...</td>\n",
       "    </tr>\n",
       "    <tr>\n",
       "      <th>6672</th>\n",
       "      <td>1.000000</td>\n",
       "      <td>0.001848</td>\n",
       "      <td>0.967589</td>\n",
       "      <td>0.003689</td>\n",
       "    </tr>\n",
       "    <tr>\n",
       "      <th>6673</th>\n",
       "      <td>1.000000</td>\n",
       "      <td>0.001540</td>\n",
       "      <td>0.969920</td>\n",
       "      <td>0.003075</td>\n",
       "    </tr>\n",
       "    <tr>\n",
       "      <th>6674</th>\n",
       "      <td>1.000000</td>\n",
       "      <td>0.001232</td>\n",
       "      <td>0.970470</td>\n",
       "      <td>0.002461</td>\n",
       "    </tr>\n",
       "    <tr>\n",
       "      <th>6675</th>\n",
       "      <td>1.000000</td>\n",
       "      <td>0.000308</td>\n",
       "      <td>0.975810</td>\n",
       "      <td>0.000616</td>\n",
       "    </tr>\n",
       "    <tr>\n",
       "      <th>6676</th>\n",
       "      <td>1.000000</td>\n",
       "      <td>0.000000</td>\n",
       "      <td>1.000000</td>\n",
       "      <td>0.000000</td>\n",
       "    </tr>\n",
       "  </tbody>\n",
       "</table>\n",
       "<p>6677 rows × 4 columns</p>\n",
       "</div>"
      ],
      "text/plain": [
       "      precision    recall  threshold        f1\n",
       "0      0.150234  1.000000   0.093517  0.261223\n",
       "1      0.150668  0.999692   0.093596  0.261869\n",
       "2      0.150689  0.999692   0.093643  0.261901\n",
       "3      0.150745  0.999692   0.093738  0.261985\n",
       "4      0.150752  0.999692   0.093765  0.261996\n",
       "...         ...       ...        ...       ...\n",
       "6672   1.000000  0.001848   0.967589  0.003689\n",
       "6673   1.000000  0.001540   0.969920  0.003075\n",
       "6674   1.000000  0.001232   0.970470  0.002461\n",
       "6675   1.000000  0.000308   0.975810  0.000616\n",
       "6676   1.000000  0.000000   1.000000  0.000000\n",
       "\n",
       "[6677 rows x 4 columns]"
      ]
     },
     "execution_count": 51,
     "metadata": {},
     "output_type": "execute_result"
    }
   ],
   "source": [
    "# List of various precision and recall rates, and associated F1 scores, according to various probability thresholds\n",
    "pr_combi"
   ]
  },
  {
   "cell_type": "markdown",
   "metadata": {},
   "source": [
    "### Changing the threshold to improve the F1 score"
   ]
  },
  {
   "cell_type": "code",
   "execution_count": 52,
   "metadata": {},
   "outputs": [
    {
     "data": {
      "text/plain": [
       "0.5607535321821037"
      ]
     },
     "execution_count": 52,
     "metadata": {},
     "output_type": "execute_result"
    }
   ],
   "source": [
    "# Find maximum F1 score\n",
    "pr_combi['f1'].max()"
   ]
  },
  {
   "cell_type": "code",
   "execution_count": 53,
   "metadata": {},
   "outputs": [
    {
     "data": {
      "text/html": [
       "<div>\n",
       "<style scoped>\n",
       "    .dataframe tbody tr th:only-of-type {\n",
       "        vertical-align: middle;\n",
       "    }\n",
       "\n",
       "    .dataframe tbody tr th {\n",
       "        vertical-align: top;\n",
       "    }\n",
       "\n",
       "    .dataframe thead th {\n",
       "        text-align: right;\n",
       "    }\n",
       "</style>\n",
       "<table border=\"1\" class=\"dataframe\">\n",
       "  <thead>\n",
       "    <tr style=\"text-align: right;\">\n",
       "      <th></th>\n",
       "      <th>precision</th>\n",
       "      <th>recall</th>\n",
       "      <th>threshold</th>\n",
       "      <th>f1</th>\n",
       "    </tr>\n",
       "  </thead>\n",
       "  <tbody>\n",
       "    <tr>\n",
       "      <th>3954</th>\n",
       "      <td>0.516207</td>\n",
       "      <td>0.588543</td>\n",
       "      <td>0.665605</td>\n",
       "      <td>0.550007</td>\n",
       "    </tr>\n",
       "    <tr>\n",
       "      <th>3955</th>\n",
       "      <td>0.516347</td>\n",
       "      <td>0.588543</td>\n",
       "      <td>0.665904</td>\n",
       "      <td>0.550086</td>\n",
       "    </tr>\n",
       "    <tr>\n",
       "      <th>3956</th>\n",
       "      <td>0.516766</td>\n",
       "      <td>0.588543</td>\n",
       "      <td>0.666008</td>\n",
       "      <td>0.550324</td>\n",
       "    </tr>\n",
       "    <tr>\n",
       "      <th>3957</th>\n",
       "      <td>0.516635</td>\n",
       "      <td>0.588235</td>\n",
       "      <td>0.666093</td>\n",
       "      <td>0.550115</td>\n",
       "    </tr>\n",
       "    <tr>\n",
       "      <th>3959</th>\n",
       "      <td>0.516784</td>\n",
       "      <td>0.587927</td>\n",
       "      <td>0.666758</td>\n",
       "      <td>0.550065</td>\n",
       "    </tr>\n",
       "    <tr>\n",
       "      <th>...</th>\n",
       "      <td>...</td>\n",
       "      <td>...</td>\n",
       "      <td>...</td>\n",
       "      <td>...</td>\n",
       "    </tr>\n",
       "    <tr>\n",
       "      <th>4844</th>\n",
       "      <td>0.649476</td>\n",
       "      <td>0.477056</td>\n",
       "      <td>0.780034</td>\n",
       "      <td>0.550071</td>\n",
       "    </tr>\n",
       "    <tr>\n",
       "      <th>4845</th>\n",
       "      <td>0.649748</td>\n",
       "      <td>0.477056</td>\n",
       "      <td>0.780153</td>\n",
       "      <td>0.550169</td>\n",
       "    </tr>\n",
       "    <tr>\n",
       "      <th>4846</th>\n",
       "      <td>0.650021</td>\n",
       "      <td>0.477056</td>\n",
       "      <td>0.780193</td>\n",
       "      <td>0.550266</td>\n",
       "    </tr>\n",
       "    <tr>\n",
       "      <th>4847</th>\n",
       "      <td>0.650694</td>\n",
       "      <td>0.476748</td>\n",
       "      <td>0.780324</td>\n",
       "      <td>0.550302</td>\n",
       "    </tr>\n",
       "    <tr>\n",
       "      <th>4848</th>\n",
       "      <td>0.651368</td>\n",
       "      <td>0.476440</td>\n",
       "      <td>0.780329</td>\n",
       "      <td>0.550338</td>\n",
       "    </tr>\n",
       "  </tbody>\n",
       "</table>\n",
       "<p>887 rows × 4 columns</p>\n",
       "</div>"
      ],
      "text/plain": [
       "      precision    recall  threshold        f1\n",
       "3954   0.516207  0.588543   0.665605  0.550007\n",
       "3955   0.516347  0.588543   0.665904  0.550086\n",
       "3956   0.516766  0.588543   0.666008  0.550324\n",
       "3957   0.516635  0.588235   0.666093  0.550115\n",
       "3959   0.516784  0.587927   0.666758  0.550065\n",
       "...         ...       ...        ...       ...\n",
       "4844   0.649476  0.477056   0.780034  0.550071\n",
       "4845   0.649748  0.477056   0.780153  0.550169\n",
       "4846   0.650021  0.477056   0.780193  0.550266\n",
       "4847   0.650694  0.476748   0.780324  0.550302\n",
       "4848   0.651368  0.476440   0.780329  0.550338\n",
       "\n",
       "[887 rows x 4 columns]"
      ]
     },
     "execution_count": 53,
     "metadata": {},
     "output_type": "execute_result"
    }
   ],
   "source": [
    "# Be mindful of the tendency of RF to overfit the training data, so let's set the threshold somewhat lower than the max\n",
    "pr_combi[pr_combi.f1 > 0.55]"
   ]
  },
  {
   "cell_type": "code",
   "execution_count": 54,
   "metadata": {},
   "outputs": [],
   "source": [
    "# Generate the predicted probabilities on the test set\n",
    "yhat_test_prob = rf.predict_proba(X_test)[:, 1]"
   ]
  },
  {
   "cell_type": "code",
   "execution_count": 55,
   "metadata": {},
   "outputs": [],
   "source": [
    "# If we use the max threshold on the test set...\n",
    "threshold = 0.780329\n",
    "y_test_class = []\n",
    "for i in range(len(yhat_test_prob)):\n",
    "    if yhat_test_prob[i] > threshold:\n",
    "        y_test_class.append(1)\n",
    "    else:\n",
    "        y_test_class.append(0)"
   ]
  },
  {
   "cell_type": "code",
   "execution_count": 56,
   "metadata": {},
   "outputs": [
    {
     "data": {
      "text/plain": [
       "12353"
      ]
     },
     "execution_count": 56,
     "metadata": {},
     "output_type": "execute_result"
    }
   ],
   "source": [
    "len(y_test_class)"
   ]
  },
  {
   "cell_type": "code",
   "execution_count": 57,
   "metadata": {},
   "outputs": [
    {
     "name": "stdout",
     "output_type": "stream",
     "text": [
      "Test set accuracy score: 0.882376750586902\n",
      "Test set F1 score on Class 1: 0.4122843920908708\n",
      "Test set Cohen's kappa: 0.3517432075117386\n",
      "Test set ROC-AUC score: 0.6534256905622547\n"
     ]
    }
   ],
   "source": [
    "# Weaker results as threshold is too high, as suspected\n",
    "print(\"Test set accuracy score:\", rf.score(X_test, y_test_class))\n",
    "print(\"Test set F1 score on Class 1:\", f1_score(y_test, y_test_class, average='binary'))\n",
    "print(\"Test set Cohen's kappa:\", cohen_kappa_score(y_test, y_test_class))\n",
    "print(\"Test set ROC-AUC score:\", roc_auc_score(y_test, y_test_class, average='macro'))"
   ]
  },
  {
   "cell_type": "code",
   "execution_count": 58,
   "metadata": {},
   "outputs": [],
   "source": [
    "# If we use the min threshold from the list in [53] above on the test set...\n",
    "threshold = 0.665605\n",
    "y_test_class = []\n",
    "for i in range(len(yhat_test_prob)):\n",
    "    if yhat_test_prob[i] > threshold:\n",
    "        y_test_class.append(1)\n",
    "    else:\n",
    "        y_test_class.append(0)"
   ]
  },
  {
   "cell_type": "code",
   "execution_count": 59,
   "metadata": {},
   "outputs": [],
   "source": [
    "# Also applying it to the training data...\n",
    "y_train_class = []\n",
    "for i in range(len(yhat_train_prob)):\n",
    "    if yhat_train_prob[i] > threshold:\n",
    "        y_train_class.append(1)\n",
    "    else:\n",
    "        y_train_class.append(0)"
   ]
  },
  {
   "cell_type": "code",
   "execution_count": 61,
   "metadata": {},
   "outputs": [
    {
     "name": "stdout",
     "output_type": "stream",
     "text": [
      "Train set accuracy score: 0.9307150539499706\n",
      "Train set F1 score on Class 1: 0.5500863557858376\n",
      "Train set Cohen's kappa: 0.48872628631866544\n",
      "Train set ROC-AUC score: 0.7592778912205863\n"
     ]
    }
   ],
   "source": [
    "print(\"Train set accuracy score:\", rf.score(X_train, y_train_class))\n",
    "print(\"Train set F1 score on Class 1:\", f1_score(y_train, y_train_class, average='binary'))\n",
    "print(\"Train set Cohen's kappa:\", cohen_kappa_score(y_train, y_train_class))\n",
    "print(\"Train set ROC-AUC score:\", roc_auc_score(y_train, y_train_class, average='macro'))"
   ]
  },
  {
   "cell_type": "code",
   "execution_count": 62,
   "metadata": {},
   "outputs": [
    {
     "name": "stdout",
     "output_type": "stream",
     "text": [
      "Test set accuracy score: 0.9297336679349146\n",
      "Test set F1 score on Class 1: 0.474679270762998\n",
      "Test set Cohen's kappa: 0.4034127875899175\n",
      "Test set ROC-AUC score: 0.7129650566218578\n"
     ]
    }
   ],
   "source": [
    "print(\"Test set accuracy score:\", rf.score(X_test, y_test_class))\n",
    "print(\"Test set F1 score on Class 1:\", f1_score(y_test, y_test_class, average='binary'))\n",
    "print(\"Test set Cohen's kappa:\", cohen_kappa_score(y_test, y_test_class))\n",
    "print(\"Test set ROC-AUC score:\", roc_auc_score(y_test, y_test_class, average='macro'))"
   ]
  },
  {
   "cell_type": "code",
   "execution_count": 63,
   "metadata": {},
   "outputs": [
    {
     "name": "stdout",
     "output_type": "stream",
     "text": [
      "              precision    recall  f1-score   support\n",
      "\n",
      "           0       0.94      0.92      0.93     10961\n",
      "           1       0.45      0.51      0.47      1392\n",
      "\n",
      "    accuracy                           0.87     12353\n",
      "   macro avg       0.69      0.71      0.70     12353\n",
      "weighted avg       0.88      0.87      0.88     12353\n",
      "\n"
     ]
    }
   ],
   "source": [
    "print(classification_report(y_test, y_test_class))"
   ]
  },
  {
   "cell_type": "markdown",
   "metadata": {},
   "source": [
    "#### The top 5-variable RF model had the following results:\n",
    "Test set accuracy score: 0.8304865214927548\n",
    "\n",
    "Test set F1 score on Class 1: 0.4532637075718015\n",
    "\n",
    "Test set Cohen's kappa: 0.3616918297375832\n",
    "\n",
    "Test set ROC-AUC score: 0.7401640560524408\n",
    "\n",
    "#### The top All-variable RF model had the following results:\n",
    "Test set accuracy score: 0.8490245284546264\n",
    "\n",
    "Test set F1 score: 0.47627071047458586\n",
    "\n",
    "Test set Cohen's kappa: 0.392937575560525\n",
    "\n",
    "Test set ROC-AUC score: 0.7443386007023858"
   ]
  },
  {
   "cell_type": "markdown",
   "metadata": {},
   "source": [
    "#### The results from raising the probability threshold of classification to 0.665605 show an improvement from the Gridsearch optimised RF 5-variable model. The test set's F1 score has risen to 0.4747 from 0.4533, and Cohen's kappa is higher too at 0.4034 versus 0.3617 previously. The ROC-AUC score however dropped from 0.7402 to 0.7130. "
   ]
  },
  {
   "cell_type": "markdown",
   "metadata": {},
   "source": [
    "### Comparing the Confusion Matrices"
   ]
  },
  {
   "cell_type": "code",
   "execution_count": 66,
   "metadata": {},
   "outputs": [
    {
     "data": {
      "image/png": "[encoded data removed]",
      "text/plain": [
       "<Figure size 432x432 with 2 Axes>"
      ]
     },
     "metadata": {
      "image/png": {
       "height": 359,
       "width": 380
      },
      "needs_background": "light"
     },
     "output_type": "display_data"
    }
   ],
   "source": [
    "# Original 5-variable RF confusion matrix\n",
    "skplt.metrics.plot_confusion_matrix(y_test, y_hat_test_rf, figsize=(6,6))\n",
    "plt.title('Initial RF Test Set Confusion Matrix', y=1.08, fontsize=16)\n",
    "plt.xlabel('Predicted', fontsize=18)\n",
    "plt.ylabel('True/Actual', fontsize=16)\n",
    "plt.ylim([-0.5, len(y.unique())-0.5])\n",
    "plt.show()"
   ]
  },
  {
   "cell_type": "code",
   "execution_count": 65,
   "metadata": {},
   "outputs": [
    {
     "data": {
      "image/png": "[encoded data removed]",
      "text/plain": [
       "<Figure size 432x432 with 2 Axes>"
      ]
     },
     "metadata": {
      "image/png": {
       "height": 359,
       "width": 387
      },
      "needs_background": "light"
     },
     "output_type": "display_data"
    }
   ],
   "source": [
    "# RF confusion matrix on test set with threshold at 0.665605\n",
    "skplt.metrics.plot_confusion_matrix(y_test, y_test_class, figsize=(6,6))\n",
    "plt.title('New RF Test Set Confusion Matrix', y=1.08, fontsize=16)\n",
    "plt.xlabel('Predicted', fontsize=18)\n",
    "plt.ylabel('True/Actual', fontsize=16)\n",
    "plt.ylim([-0.5, len(y.unique())-0.5])\n",
    "plt.show()"
   ]
  },
  {
   "cell_type": "markdown",
   "metadata": {},
   "source": [
    "In the new Confusion Matrix following the changed threshold, there are 703 predicted true positive observations, compared to 868 in the original model predictions. The higher threshold has reduced the number of predicted class \"1\" observations from 2,438 to 1,570. The new precision rate is 703/(689+703) = 50.5%, and the recall rate is 703/(703+876) = 44.5%. The original model had a precision rate of 35.6% and a recall rate of 62.4%. \n",
    "\n",
    "#### In other words, the original model was better at picking true positive observations from among the actual positive observations in the dataset (i.e. had a higher recall rate). The higher threshold, on the other hand, has delivered a higher precision rate. The new combination precision and recall rates resulted in a higher overall F1 score of 0.4747 on class \"1\" in the test set. I believe that the higher precision rate is preferable in this particular case because the model is now more precise (i.e. higher probability of picking a true positive from among the predicted positive observations). The point of the model after all is to predict successful subscriptions (class \"1\" ) to a bank term deposit from a tele-marketing campaign. \n",
    "\n",
    "There is always be a tradeoff between the precision and recall rates, as may be observed in output [48] with the lines crossing each other as the threshold goes from 0 to 1.0. In some cases, the tradeoff of a lower recall rate for a higher precision rate might not be desirable, for example in disease screening. But a higher precision rate with a higher overall F1 score serves this case well, in my view. In conclusion, the higher threshold has improved the performance of the 5-variable Random Forest model, such that it has achieved F1, Cohen's kappa and accuracy scores on the test set comparable to the top All-variable model discussed earlier."
   ]
  },
  {
   "cell_type": "markdown",
   "metadata": {},
   "source": [
    "# Conclusion"
   ]
  },
  {
   "cell_type": "markdown",
   "metadata": {},
   "source": [
    "#### The changed-threshold 5-variable Random Forest model above achieved F1, Cohen's kappa and accuracy scores on the test set that rival the top All-variable model in the \"Campaign_II\" file. This demonstrates how using the precision-recall curve to shift the classification threshold of probabilitistic classifiers can add to their predictive power, especially in imbalanced datasets."
   ]
  },
  {
   "cell_type": "code",
   "execution_count": null,
   "metadata": {},
   "outputs": [],
   "source": []
  }
 ],
 "metadata": {
  "kernelspec": {
   "display_name": "Python 3",
   "language": "python",
   "name": "python3"
  },
  "language_info": {
   "codemirror_mode": {
    "name": "ipython",
    "version": 3
   },
   "file_extension": ".py",
   "mimetype": "text/x-python",
   "name": "python",
   "nbconvert_exporter": "python",
   "pygments_lexer": "ipython3",
   "version": "3.7.4"
  }
 },
 "nbformat": 4,
 "nbformat_minor": 2
}
